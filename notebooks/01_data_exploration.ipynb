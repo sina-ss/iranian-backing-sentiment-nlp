{
  "cells": [
    {
      "cell_type": "markdown",
      "metadata": {},
      "source": [
        "# Persian Banking Sentiment Analysis - Data Exploration\n",
        "\n",
        "This notebook demonstrates the basic usage of the Persian sentiment analysis pipeline.\n",
        "\n",
        "## Setup"
      ]
    },
    {
      "cell_type": "code",
      "execution_count": null,
      "metadata": {},
      "outputs": [],
      "source": [
        "import sys\n",
        "sys.path.append('../src')\n",
        "\n",
        "import pandas as pd\n",
        "import numpy as np\n",
        "import matplotlib.pyplot as plt\n",
        "import seaborn as sns\n",
        "\n",
        "from data_collection.cafe_bazaar_scraper import CafeBazaarScraper\n",
        "from preprocessing.persian_cleaner import PersianTextPreprocessor\n",
        "\n",
        "# Set up plotting\n",
        "plt.style.use('seaborn-v0_8')\n",
        "sns.set_palette('Set2')\n",
        "plt.rcParams['figure.figsize'] = (12, 8)\n",
        "plt.rcParams['font.size'] = 12\n",
        "\n",
        "print(\"Setup complete!\")"
      ]
    },
    {
      "cell_type": "markdown",
      "metadata": {},
      "source": [
        "## Data Collection Example"
      ]
    },
    {
      "cell_type": "code",
      "execution_count": null,
      "metadata": {},
      "outputs": [],
      "source": [
        "# Initialize scraper\n",
        "scraper = CafeBazaarScraper()\n",
        "\n",
        "# Get sample comments\n",
        "sample_df = scraper.get_sample_comments('com.tejarat.ezam', count=50)\n",
        "print(f\"Collected {len(sample_df)} sample comments\")\n",
        "sample_df.head()"
      ]
    },
    {
      "cell_type": "markdown",
      "metadata": {},
      "source": [
        "## Text Preprocessing Example"
      ]
    },
    {
      "cell_type": "code",
      "execution_count": null,
      "metadata": {},
      "outputs": [],
      "source": [
        "# Initialize preprocessor\n",
        "preprocessor = PersianTextPreprocessor()\n",
        "\n",
        "# Example text\n",
        "sample_text = \"این بانک خیلی خوبه! سرویسش عالیه 😊\"\n",
        "\n",
        "print(f\"Original: {sample_text}\")\n",
        "print(f\"Preprocessed: {preprocessor.preprocess_text(sample_text)}\")\n",
        "print(f\"Tokens: {preprocessor.preprocess_text(sample_text, return_tokens=True)}\")"
      ]
    },
    {
      "cell_type": "markdown",
      "metadata": {},
      "source": [
        "## Next Steps\n",
        "\n",
        "1. Collect full dataset using `scraper.scrape_all_banking_apps()`\n",
        "2. Preprocess all comments\n",
        "3. Label data for sentiment (positive/negative/neutral)\n",
        "4. Train models and evaluate\n",
        "5. Generate insights and reports"
      ]
    }
  ],
  "metadata": {
    "kernelspec": {
      "display_name": "Python 3",
      "language": "python",
      "name": "python3"
    },
    "language_info": {
      "codemirror_mode": {
        "name": "ipython",
        "version": 3
      },
      "file_extension": ".py",
      "mimetype": "text/x-python",
      "name": "python",
      "nbconvert_exporter": "python",
      "pygments_lexer": "ipython3",
      "version": "3.8.0"
    }
  },
  "nbformat": 4,
  "nbformat_minor": 4
}